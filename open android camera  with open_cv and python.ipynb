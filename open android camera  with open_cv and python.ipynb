{
 "cells": [
  {
   "cell_type": "markdown",
   "metadata": {},
   "source": [
    "# open android camera  with open_cv and python"
   ]
  },
  {
   "cell_type": "markdown",
   "metadata": {},
   "source": [
    "---"
   ]
  },
  {
   "cell_type": "code",
   "execution_count": 2,
   "metadata": {},
   "outputs": [
    {
     "name": "stdout",
     "output_type": "stream",
     "text": [
      "Note: you may need to restart the kernel to use updated packages.\n"
     ]
    },
    {
     "name": "stderr",
     "output_type": "stream",
     "text": [
      "ERROR: Invalid requirement: '#'\n"
     ]
    }
   ],
   "source": [
    "pip install opencv-python #  Download opencv lebiery "
   ]
  },
  {
   "cell_type": "code",
   "execution_count": 3,
   "metadata": {},
   "outputs": [
    {
     "data": {
      "text/plain": [
       "'\\nimport requests # import requests \\nimport numpy as np\\nimport cv2\\nwhile True:\\nimg_res = requests.get(\"http://192.168.1.6:8080/shot.jpg\")\\nimg_arr = np.array(bytearray(img_res.content), dtype = np.uint8)\\nimg = cv2.imdecode(img_arr,-1)\\n\\ncv2.imshow(\\'frame\\', img)\\nif cv2.waitKey(1) & 0xFF == ord(\\'q\\'):\\n    break\\n '"
      ]
     },
     "execution_count": 3,
     "metadata": {},
     "output_type": "execute_result"
    }
   ],
   "source": [
    "    \"\"\"\n",
    "import requests # import requests \n",
    "import numpy as np\n",
    "import cv2\n",
    "while True:\n",
    "    img_res = requests.get(\"http://192.168.1.6:8080/shot.jpg\")\n",
    "    img_arr = np.array(bytearray(img_res.content), dtype = np.uint8)\n",
    "    img = cv2.imdecode(img_arr,-1)\n",
    "\n",
    "    cv2.imshow('frame', img)\n",
    "    if cv2.waitKey(1) & 0xFF == ord('q'):\n",
    "        break\n",
    "     \"\"\"\n",
    "    "
   ]
  },
  {
   "cell_type": "code",
   "execution_count": null,
   "metadata": {},
   "outputs": [],
   "source": []
  },
  {
   "cell_type": "code",
   "execution_count": null,
   "metadata": {},
   "outputs": [],
   "source": []
  }
 ],
 "metadata": {
  "kernelspec": {
   "display_name": "Python 3",
   "language": "python",
   "name": "python3"
  },
  "language_info": {
   "codemirror_mode": {
    "name": "ipython",
    "version": 3
   },
   "file_extension": ".py",
   "mimetype": "text/x-python",
   "name": "python",
   "nbconvert_exporter": "python",
   "pygments_lexer": "ipython3",
   "version": "3.7.4"
  }
 },
 "nbformat": 4,
 "nbformat_minor": 2
}
